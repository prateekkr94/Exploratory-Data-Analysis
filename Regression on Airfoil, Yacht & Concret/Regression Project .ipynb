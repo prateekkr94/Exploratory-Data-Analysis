{
 "cells": [
  {
   "cell_type": "markdown",
   "metadata": {},
   "source": [
    "# Regression Project 1\n",
    "\n",
    "### Regression with NumPy\n",
    "In this project, We have to develop a regression model that best fits the data below.\n",
    "\n",
    "All data sets are curated from the UCI Machine Learning repository.\n",
    "\n",
    "- Airfoil Self-Noise: https://archive.ics.uci.edu/ml/datasets/Airfoil+Self-Noise \n",
    "- Yacht Hydrodynamics: https://archive.ics.uci.edu/ml/datasets/Yacht+Hydrodynamics\n",
    "- Concrete Slump: https://archive.ics.uci.edu/ml/datasets/Concrete+Slump+Test"
   ]
  },
  {
   "cell_type": "code",
   "execution_count": 1,
   "metadata": {},
   "outputs": [],
   "source": [
    "# import Pyhton libraries\n",
    "%matplotlib inline\n",
    "import numpy as np\n",
    "import pandas as pd\n",
    "import matplotlib.pyplot as plt\n",
    "import scipy as stat\n",
    "from sklearn.model_selection import KFold\n",
    "import random\n",
    "import math\n",
    "\n",
    "\n",
    "# Import warnings\n",
    "import warnings \n",
    "warnings.filterwarnings('ignore')"
   ]
  },
  {
   "cell_type": "markdown",
   "metadata": {},
   "source": [
    "## Reading data and storing in panda tables"
   ]
  },
  {
   "cell_type": "code",
   "execution_count": 2,
   "metadata": {},
   "outputs": [],
   "source": [
    "# Airfoil Self-Noise data\n",
    "af_df = pd.read_table(\n",
    "    filepath_or_buffer = \"https://archive.ics.uci.edu/ml/machine-learning-databases/00291/airfoil_self_noise.dat\",\n",
    "    names = [\"Frequency\", \"Angle of attack\", \"Chord length\", \"Free-stream velocity\", \n",
    "             \"Suction side displacement\", \"Scaled sound pressure\"])\n",
    "\n",
    "# Yacht Hydrodynamics\n",
    "yh_df = pd.read_table(\n",
    "    filepath_or_buffer = \"https://archive.ics.uci.edu/ml/machine-learning-databases/00243/yacht_hydrodynamics.data\",\n",
    "    names = [\"Longitudinal buoyancy\", \"Prismatic coefficient\", \"Length-displacement\", \"Beam-draught\", \n",
    "             \"Length-beam\", \"Froude number\", \"Residuary resistance\"], delim_whitespace = True)\n",
    "\n",
    "# Concrete Slump\n",
    "cs_df = pd.read_csv(\n",
    "    filepath_or_buffer = \"https://archive.ics.uci.edu/ml/machine-learning-databases/concrete/slump/slump_test.data\",\n",
    "    names = [\"Cement\", \"Slag\", \"Fly ash\", \"Water\", \"SP\", \"Coarse Aggr.\", \"Fine Aggr.\", \"SLUMP\", \"FLOW\",\n",
    "             \"Compressive Strength\"], skiprows = 1)"
   ]
  },
  {
   "cell_type": "markdown",
   "metadata": {},
   "source": [
    "## Now, reading first 5 rows of dataframes"
   ]
  },
  {
   "cell_type": "code",
   "execution_count": 3,
   "metadata": {},
   "outputs": [
    {
     "data": {
      "text/html": [
       "<div>\n",
       "<style scoped>\n",
       "    .dataframe tbody tr th:only-of-type {\n",
       "        vertical-align: middle;\n",
       "    }\n",
       "\n",
       "    .dataframe tbody tr th {\n",
       "        vertical-align: top;\n",
       "    }\n",
       "\n",
       "    .dataframe thead th {\n",
       "        text-align: right;\n",
       "    }\n",
       "</style>\n",
       "<table border=\"1\" class=\"dataframe\">\n",
       "  <thead>\n",
       "    <tr style=\"text-align: right;\">\n",
       "      <th></th>\n",
       "      <th>Frequency</th>\n",
       "      <th>Angle of attack</th>\n",
       "      <th>Chord length</th>\n",
       "      <th>Free-stream velocity</th>\n",
       "      <th>Suction side displacement</th>\n",
       "      <th>Scaled sound pressure</th>\n",
       "    </tr>\n",
       "  </thead>\n",
       "  <tbody>\n",
       "    <tr>\n",
       "      <th>0</th>\n",
       "      <td>800</td>\n",
       "      <td>0.0</td>\n",
       "      <td>0.3048</td>\n",
       "      <td>71.3</td>\n",
       "      <td>0.002663</td>\n",
       "      <td>126.201</td>\n",
       "    </tr>\n",
       "    <tr>\n",
       "      <th>1</th>\n",
       "      <td>1000</td>\n",
       "      <td>0.0</td>\n",
       "      <td>0.3048</td>\n",
       "      <td>71.3</td>\n",
       "      <td>0.002663</td>\n",
       "      <td>125.201</td>\n",
       "    </tr>\n",
       "    <tr>\n",
       "      <th>2</th>\n",
       "      <td>1250</td>\n",
       "      <td>0.0</td>\n",
       "      <td>0.3048</td>\n",
       "      <td>71.3</td>\n",
       "      <td>0.002663</td>\n",
       "      <td>125.951</td>\n",
       "    </tr>\n",
       "    <tr>\n",
       "      <th>3</th>\n",
       "      <td>1600</td>\n",
       "      <td>0.0</td>\n",
       "      <td>0.3048</td>\n",
       "      <td>71.3</td>\n",
       "      <td>0.002663</td>\n",
       "      <td>127.591</td>\n",
       "    </tr>\n",
       "    <tr>\n",
       "      <th>4</th>\n",
       "      <td>2000</td>\n",
       "      <td>0.0</td>\n",
       "      <td>0.3048</td>\n",
       "      <td>71.3</td>\n",
       "      <td>0.002663</td>\n",
       "      <td>127.461</td>\n",
       "    </tr>\n",
       "  </tbody>\n",
       "</table>\n",
       "</div>"
      ],
      "text/plain": [
       "   Frequency  Angle of attack  Chord length  Free-stream velocity  \\\n",
       "0        800              0.0        0.3048                  71.3   \n",
       "1       1000              0.0        0.3048                  71.3   \n",
       "2       1250              0.0        0.3048                  71.3   \n",
       "3       1600              0.0        0.3048                  71.3   \n",
       "4       2000              0.0        0.3048                  71.3   \n",
       "\n",
       "   Suction side displacement  Scaled sound pressure  \n",
       "0                   0.002663                126.201  \n",
       "1                   0.002663                125.201  \n",
       "2                   0.002663                125.951  \n",
       "3                   0.002663                127.591  \n",
       "4                   0.002663                127.461  "
      ]
     },
     "execution_count": 3,
     "metadata": {},
     "output_type": "execute_result"
    }
   ],
   "source": [
    "af_df.head()"
   ]
  },
  {
   "cell_type": "code",
   "execution_count": 4,
   "metadata": {},
   "outputs": [
    {
     "data": {
      "text/html": [
       "<div>\n",
       "<style scoped>\n",
       "    .dataframe tbody tr th:only-of-type {\n",
       "        vertical-align: middle;\n",
       "    }\n",
       "\n",
       "    .dataframe tbody tr th {\n",
       "        vertical-align: top;\n",
       "    }\n",
       "\n",
       "    .dataframe thead th {\n",
       "        text-align: right;\n",
       "    }\n",
       "</style>\n",
       "<table border=\"1\" class=\"dataframe\">\n",
       "  <thead>\n",
       "    <tr style=\"text-align: right;\">\n",
       "      <th></th>\n",
       "      <th>Longitudinal buoyancy</th>\n",
       "      <th>Prismatic coefficient</th>\n",
       "      <th>Length-displacement</th>\n",
       "      <th>Beam-draught</th>\n",
       "      <th>Length-beam</th>\n",
       "      <th>Froude number</th>\n",
       "      <th>Residuary resistance</th>\n",
       "    </tr>\n",
       "  </thead>\n",
       "  <tbody>\n",
       "    <tr>\n",
       "      <th>0</th>\n",
       "      <td>-2.3</td>\n",
       "      <td>0.568</td>\n",
       "      <td>4.78</td>\n",
       "      <td>3.99</td>\n",
       "      <td>3.17</td>\n",
       "      <td>0.125</td>\n",
       "      <td>0.11</td>\n",
       "    </tr>\n",
       "    <tr>\n",
       "      <th>1</th>\n",
       "      <td>-2.3</td>\n",
       "      <td>0.568</td>\n",
       "      <td>4.78</td>\n",
       "      <td>3.99</td>\n",
       "      <td>3.17</td>\n",
       "      <td>0.150</td>\n",
       "      <td>0.27</td>\n",
       "    </tr>\n",
       "    <tr>\n",
       "      <th>2</th>\n",
       "      <td>-2.3</td>\n",
       "      <td>0.568</td>\n",
       "      <td>4.78</td>\n",
       "      <td>3.99</td>\n",
       "      <td>3.17</td>\n",
       "      <td>0.175</td>\n",
       "      <td>0.47</td>\n",
       "    </tr>\n",
       "    <tr>\n",
       "      <th>3</th>\n",
       "      <td>-2.3</td>\n",
       "      <td>0.568</td>\n",
       "      <td>4.78</td>\n",
       "      <td>3.99</td>\n",
       "      <td>3.17</td>\n",
       "      <td>0.200</td>\n",
       "      <td>0.78</td>\n",
       "    </tr>\n",
       "    <tr>\n",
       "      <th>4</th>\n",
       "      <td>-2.3</td>\n",
       "      <td>0.568</td>\n",
       "      <td>4.78</td>\n",
       "      <td>3.99</td>\n",
       "      <td>3.17</td>\n",
       "      <td>0.225</td>\n",
       "      <td>1.18</td>\n",
       "    </tr>\n",
       "  </tbody>\n",
       "</table>\n",
       "</div>"
      ],
      "text/plain": [
       "   Longitudinal buoyancy  Prismatic coefficient  Length-displacement  \\\n",
       "0                   -2.3                  0.568                 4.78   \n",
       "1                   -2.3                  0.568                 4.78   \n",
       "2                   -2.3                  0.568                 4.78   \n",
       "3                   -2.3                  0.568                 4.78   \n",
       "4                   -2.3                  0.568                 4.78   \n",
       "\n",
       "   Beam-draught  Length-beam  Froude number  Residuary resistance  \n",
       "0          3.99         3.17          0.125                  0.11  \n",
       "1          3.99         3.17          0.150                  0.27  \n",
       "2          3.99         3.17          0.175                  0.47  \n",
       "3          3.99         3.17          0.200                  0.78  \n",
       "4          3.99         3.17          0.225                  1.18  "
      ]
     },
     "execution_count": 4,
     "metadata": {},
     "output_type": "execute_result"
    }
   ],
   "source": [
    "yh_df.head()"
   ]
  },
  {
   "cell_type": "code",
   "execution_count": 5,
   "metadata": {},
   "outputs": [
    {
     "data": {
      "text/html": [
       "<div>\n",
       "<style scoped>\n",
       "    .dataframe tbody tr th:only-of-type {\n",
       "        vertical-align: middle;\n",
       "    }\n",
       "\n",
       "    .dataframe tbody tr th {\n",
       "        vertical-align: top;\n",
       "    }\n",
       "\n",
       "    .dataframe thead th {\n",
       "        text-align: right;\n",
       "    }\n",
       "</style>\n",
       "<table border=\"1\" class=\"dataframe\">\n",
       "  <thead>\n",
       "    <tr style=\"text-align: right;\">\n",
       "      <th></th>\n",
       "      <th>Cement</th>\n",
       "      <th>Slag</th>\n",
       "      <th>Fly ash</th>\n",
       "      <th>Water</th>\n",
       "      <th>SP</th>\n",
       "      <th>Coarse Aggr.</th>\n",
       "      <th>Fine Aggr.</th>\n",
       "      <th>SLUMP</th>\n",
       "      <th>FLOW</th>\n",
       "      <th>Compressive Strength</th>\n",
       "    </tr>\n",
       "  </thead>\n",
       "  <tbody>\n",
       "    <tr>\n",
       "      <th>1</th>\n",
       "      <td>273.0</td>\n",
       "      <td>82.0</td>\n",
       "      <td>105.0</td>\n",
       "      <td>210.0</td>\n",
       "      <td>9.0</td>\n",
       "      <td>904.0</td>\n",
       "      <td>680.0</td>\n",
       "      <td>23.0</td>\n",
       "      <td>62.0</td>\n",
       "      <td>34.99</td>\n",
       "    </tr>\n",
       "    <tr>\n",
       "      <th>2</th>\n",
       "      <td>163.0</td>\n",
       "      <td>149.0</td>\n",
       "      <td>191.0</td>\n",
       "      <td>180.0</td>\n",
       "      <td>12.0</td>\n",
       "      <td>843.0</td>\n",
       "      <td>746.0</td>\n",
       "      <td>0.0</td>\n",
       "      <td>20.0</td>\n",
       "      <td>41.14</td>\n",
       "    </tr>\n",
       "    <tr>\n",
       "      <th>3</th>\n",
       "      <td>162.0</td>\n",
       "      <td>148.0</td>\n",
       "      <td>191.0</td>\n",
       "      <td>179.0</td>\n",
       "      <td>16.0</td>\n",
       "      <td>840.0</td>\n",
       "      <td>743.0</td>\n",
       "      <td>1.0</td>\n",
       "      <td>20.0</td>\n",
       "      <td>41.81</td>\n",
       "    </tr>\n",
       "    <tr>\n",
       "      <th>4</th>\n",
       "      <td>162.0</td>\n",
       "      <td>148.0</td>\n",
       "      <td>190.0</td>\n",
       "      <td>179.0</td>\n",
       "      <td>19.0</td>\n",
       "      <td>838.0</td>\n",
       "      <td>741.0</td>\n",
       "      <td>3.0</td>\n",
       "      <td>21.5</td>\n",
       "      <td>42.08</td>\n",
       "    </tr>\n",
       "    <tr>\n",
       "      <th>5</th>\n",
       "      <td>154.0</td>\n",
       "      <td>112.0</td>\n",
       "      <td>144.0</td>\n",
       "      <td>220.0</td>\n",
       "      <td>10.0</td>\n",
       "      <td>923.0</td>\n",
       "      <td>658.0</td>\n",
       "      <td>20.0</td>\n",
       "      <td>64.0</td>\n",
       "      <td>26.82</td>\n",
       "    </tr>\n",
       "  </tbody>\n",
       "</table>\n",
       "</div>"
      ],
      "text/plain": [
       "   Cement   Slag  Fly ash  Water    SP  Coarse Aggr.  Fine Aggr.  SLUMP  FLOW  \\\n",
       "1   273.0   82.0    105.0  210.0   9.0         904.0       680.0   23.0  62.0   \n",
       "2   163.0  149.0    191.0  180.0  12.0         843.0       746.0    0.0  20.0   \n",
       "3   162.0  148.0    191.0  179.0  16.0         840.0       743.0    1.0  20.0   \n",
       "4   162.0  148.0    190.0  179.0  19.0         838.0       741.0    3.0  21.5   \n",
       "5   154.0  112.0    144.0  220.0  10.0         923.0       658.0   20.0  64.0   \n",
       "\n",
       "   Compressive Strength  \n",
       "1                 34.99  \n",
       "2                 41.14  \n",
       "3                 41.81  \n",
       "4                 42.08  \n",
       "5                 26.82  "
      ]
     },
     "execution_count": 5,
     "metadata": {},
     "output_type": "execute_result"
    }
   ],
   "source": [
    "cs_df.head()"
   ]
  },
  {
   "cell_type": "markdown",
   "metadata": {},
   "source": [
    "## Question 1 \n",
    "\n",
    "1) Develop a function with the following first line:\n",
    "\n",
    "def my_regression(trainX, testX, noutputs)\n",
    "\n",
    "The input variables are:\n",
    "\n",
    "- trainX - an [ntrain x (nfeature + noutputs)] array that contains the features in the first 'nfeature' columns and the outputs in the last 'noutput' columns\n",
    "- testX - an [ntest x nfeature] array of test data for which the predictions are made\n",
    "    noutputs - the number of output columns in trainX\n",
    "\n",
    "The output should be an [ntest x noutputs] array, which contains the prediction values for the testX data. You can use these data to then calculate squared error by comparing against the testX outputs.\n",
    "\n",
    "Your my_regression code should do some kind of cross-validation to determine the right model for the training data, e.g., linear vs. polynomial vs. radial basis functions (your choice). Then this model is applied to the test data to make a prediction.\n",
    "\n",
    "Rules:\n",
    "\n",
    "- Your code should not use any regression library, but can use NumPy as this will be useful for array handling.\n",
    "    No other inputs to this function are allowed.\n",
    "- You may not use the testX data to train your model. Notice that outputs are not passed in for testing data.\n",
    "- Your code can perform data scaling (scaling features to the interval [0,1] or z-score scaling), can use any   basis functions you want, cross-validation on the training data, regularization, and model selection.\n"
   ]
  },
  {
   "cell_type": "code",
   "execution_count": 6,
   "metadata": {},
   "outputs": [],
   "source": [
    "class ProcessMyData:\n",
    "    \"\"\"first of all, lets process the data by normalizing, \n",
    "    splitting into train and test, and cross-validate. I am performing all these data proceesing \n",
    "    on the pandas DataFrame\n",
    "    \n",
    "    Arguments:\n",
    "        First step : Pandas dataframe that need to processed\n",
    "    \"\"\"\n",
    "    \n",
    "    def __init__(self):\n",
    "        \"\"\"Initialize class variable using \n",
    "        the self or class objects\n",
    "        \n",
    "        Arguments:\n",
    "            None\n",
    "        Returns:\n",
    "             None, simply provide pass\n",
    "        \"\"\"\n",
    "        pass\n",
    "    \n",
    "    def z_score_norm(self, data):\n",
    "        \"\"\"z-score is used to normalize data\n",
    "        \n",
    "        method used z-score normalization\n",
    "        \n",
    "        Arguments:\n",
    "        Data to be normalized\n",
    "            \n",
    "        Returns:\n",
    "            Normalized data in DataFrame\n",
    "        \"\"\"\n",
    "        # Following formula uses mean and standrand deviation for the normalization\n",
    "        norm_df = (data - data.mean()) / data.std()\n",
    "        return pd.DataFrame(norm_df)\n",
    "    \n",
    "    def train_test_split(self, data, cut_at = 0.90):\n",
    "        \"\"\" Splitting of data into train and test set\n",
    "        \n",
    "        pythons 'frac=cut_at' value splits the data into two parts as train \n",
    "        and test data. The cut_at value is a percentage of data in the training \n",
    "        set and rest in the test set\n",
    "\n",
    "                \n",
    "        Returns:\n",
    "            train: Training set of the data at cut_at value \n",
    "            test: Testing set of the data\n",
    "        \"\"\"\n",
    "        # train, test splitting\n",
    "        train = data.sample(frac = cut_at, random_state = 200)\n",
    "        test = data.drop(train.index)\n",
    "        return train, test\n",
    "    \n",
    "    def pred_target_split(self, data, noutputs = 1):\n",
    "        \"\"\" This function separates Predictors and output variables \n",
    "        in padas DataFrame\n",
    "        \n",
    "        dependent and indepent variables in the Dataframe are to be separated as \n",
    "        predictors and target assuming the target variable is in the last column.\n",
    "\n",
    "         Arguments:\n",
    "            data: Pandas Dataframe to be split into Predictors and target\n",
    "            noutputs: Number of output variables in the dataset.\n",
    "            \n",
    "        Returns:\n",
    "            predictors: Dependent variables \n",
    "            output: target variable (last column=-1)\n",
    "        \"\"\"\n",
    "        # selecting predictors\n",
    "        predictors = data.iloc[:, 0:-noutputs]\n",
    "        # selecting target\n",
    "        outputs = data.iloc[:, -noutputs:]\n",
    "        return predictors, outputs\n",
    "    \n",
    "    def cross_val(self,data):\n",
    "      \n",
    "        \"\"\" Cross-validation \n",
    "        This function splits data into K number of groups \n",
    "     \n",
    "        Arguments:\n",
    "            data: K-fold cross validation on data\n",
    "            k: Number of folds. we will be using 5- fold cross validation\n",
    "            \n",
    "        Returns:\n",
    "            index: Row index for each data in the set of the folds\n",
    "        \"\"\"\n",
    "        # Creating K-Fold cross validation index.\n",
    "        kf = KFold(n_splits=5, random_state=None, shuffle=False)    ###nsplitts = 5\n",
    "        nf =kf.split(data)\n",
    "        return nf"
   ]
  },
  {
   "cell_type": "markdown",
   "metadata": {},
   "source": [
    "### Now I am creating Regression class in which I will define Regression function\n"
   ]
  },
  {
   "cell_type": "code",
   "execution_count": 7,
   "metadata": {},
   "outputs": [],
   "source": [
    "class Regression:\n",
    "    \"\"\" This class will be used to perform regression algorithm on data\n",
    "    \n",
    "    I will call 'DataProcessing class to process the data before appling \n",
    "    regression. \n",
    "    \n",
    "    Here, I will use two different kinds of basisfunctons: linear and Guassian\n",
    "    on training and test data with different values of lamda to select best model \n",
    "    after k-fold cross validation which has least mean square error value.\n",
    "\n",
    "    \"\"\"\n",
    "    \n",
    "    # Creating the data Processing object for training data\n",
    "    data_process = ProcessMyData()\n",
    "    \n",
    "    def __init__(self, k_fold = 5): \n",
    "        self.k_fold = k_fold\n",
    "        self.lamda_values = [0,0.0001, 0.001, 0.01, 0.1, 0, 1, 10, 100]\n",
    "        self.kernels = [\"linear\", \"gaussian\"]\n",
    "        self.parameters_list = []\n",
    "        self.n_points = 10          \n",
    "        self.model_param = []\n",
    "        \n",
    "    def lmse(self, actual, pred):\n",
    "        \"\"\" Find the Prediction LMSE\n",
    "        \n",
    "        LMSE -  Least Mean Square Error is the average squared difference \n",
    "        between the prediction and actual values. The inputs are actual and \n",
    "        predicted values that outputs the LMSE rounded off to two digits.\n",
    "        \n",
    "        Arguments:\n",
    "            actual: Actual value from the dataset.\n",
    "            pred: Predicted value for the data.\n",
    "            \n",
    "        Returns:\n",
    "            Least Mean Square Error value\n",
    "        \"\"\"\n",
    "        # compute Least Mean Square Error\n",
    "        lmse = round(np.sum((actual - pred) ** 2) / len(actual), 2)\n",
    "        return lmse\n",
    "\n",
    "    def gauss_kernel(self, data, n_points = 10):    #should not be less than training data\n",
    "        \"\"\" here we are using Gaussian basis function:\n",
    "        \n",
    "        data is passed over the n- guassian function which convert into n-features to n-feature vectors.\n",
    "\n",
    "        \n",
    "        Arguments:\n",
    "            data: Data to be changed into gaussian form\n",
    "            n_points: Number of gaussian kernels/functions/points to refine into\n",
    "        \n",
    "        Returns:\n",
    "            gaussian: N feature vectors represetation of the input dataset.\n",
    "        \"\"\"\n",
    "        # Setting sigma as no. of original features\n",
    "        sigma = data.shape[1]\n",
    "        # Setting the random seed and sampling the points from the data\n",
    "        random.seed(100)\n",
    "        points = random.sample(list(data.index), n_points)\n",
    "        # Initialize the gaussian kernel feature vector\n",
    "        gaussian = np.zeros((data.shape[0], n_points))\n",
    "        col = 0\n",
    "        # Iterate through the n_points to come up with n gaussian feauture vectors\n",
    "        for point in points:\n",
    "            gaussian[:, col] = np.exp(-np.linalg.norm(data - data.loc[point, :], 2, axis = 1) ** 2 \n",
    "                                      / (2. * sigma ** 2))\n",
    "            col += 1\n",
    "        return gaussian\n",
    "    \n",
    "    def cv_fit(self, x_train, y_train, k_fold):\n",
    "        \"\"\" select best model after cross validation\n",
    "        \n",
    "        Task is to select best kernel, best lamda, and best least mean square error.\n",
    "        \n",
    "        Arguments:\n",
    "            x_train: Predictors of the Training set\n",
    "            y_train: Output of the Training set\n",
    "            k_fold: Number of fold for the cross validation\n",
    "            \n",
    "        Returns:\n",
    "            model_param: A dictinoary consists of selected model weights, \n",
    "                lamda value, lmse value, and kernel functions\n",
    "        \"\"\"\n",
    "        \n",
    "        # Initialize variables \n",
    "        weights = np.zeros((x_train.shape[1],))\n",
    "        best_weights = weights\n",
    "        identity = np.identity(x_train.shape[1])\n",
    "        best_lmse = float(\"inf\")\n",
    "        best_lamda = float('inf')\n",
    "        best_kernel = \"\"\n",
    "                \n",
    "        # Looping through the basis function\n",
    "        for kernel in self.kernels:\n",
    "            # Check the Gaussian function\n",
    "            if kernel is \"gaussian\":\n",
    "                x_train = self.gauss_kernel(pd.DataFrame(x_train), self.n_points)\n",
    "                identity = np.identity(x_train.shape[1])\n",
    "            # Looping through given values of Lamdas\n",
    "            for lamda in self.lamda_values:\n",
    "                lmse = 0\n",
    "                for train_index, test_index in self.data_process.cross_val(data=x_train):\n",
    "                    # train test spilliting and getting their indeces\n",
    "                    x_train_index = x_train[train_index]\n",
    "                    y_train_index = y_train[train_index]\n",
    "                    x_test_index = x_train[test_index]\n",
    "                    y_test_index = y_train[test_index]\n",
    "                    # find the solution for each lambda\n",
    "                    inverse = np.linalg.inv(lamda*identity + np.dot(x_train_index.T, x_train_index))\n",
    "                    data_term = np.dot(x_train_index.T, y_train_index)\n",
    "                    weights = np.dot(inverse, data_term)\n",
    "                    # Predict with the test set\n",
    "                    prediction = np.dot(x_test_index, weights)\n",
    "                    # defining least meansquare errors\n",
    "                    lmse += (np.sum((y_test_index - prediction) ** 2) / len(y_test_index))\n",
    "                # lmse for each lamda\n",
    "                lmse = lmse / k_fold\n",
    "                # Preparing the parameter list for further analysis\n",
    "                # Storing the result in class variable\n",
    "                parameters = {'basis_function': kernel, \n",
    "                              'lamda': lamda,\n",
    "                              'lmse': lmse,\n",
    "                              'weights': weights}\n",
    "                self.parameters_list.append(parameters)\n",
    "                # Updating and appending the best parameters selected by model\n",
    "                if best_lmse > lmse:\n",
    "                    best_lmse = lmse\n",
    "                    best_lamda = lamda\n",
    "                    best_weights = weights\n",
    "                    best_kernel = kernel \n",
    "        model_param = {\"weights\": best_weights, \"kernel\": best_kernel, \"lamda\": best_lamda, \"lmse\": best_lmse}\n",
    "        self.model_param.append(model_param)\n",
    "        return model_param\n",
    "\n",
    "    def my_regression(self, trainX, testX, noutputs):\n",
    "        \"\"\" \n",
    "        This is my main function to make prediction:\n",
    "        continuous output(s)\n",
    "        \n",
    "        this function takes data( training set) and performs cross validation\n",
    "        and selects best parameters, lambda, basis function and uses test data \n",
    "        for the predictions\n",
    "\n",
    "        Arguments:\n",
    "            trainX - an [ntrain x (nfeature + noutputs)] array that contains\n",
    "                the features in the first 'nfeature' columns and the outputs \n",
    "                in the last 'noutput' columns\n",
    "            testX - an [ntest x nfeature] array of test data for which the \n",
    "                predictions are made\n",
    "            noutputs - the number of output columns in trainX\n",
    "            \n",
    "        Returns:\n",
    "            prediction: [ntest x noutputs] array, which contains the prediction \n",
    "                values for the testX data\n",
    "        \"\"\"        \n",
    "        #  Z-score  normalization of training and test data\n",
    "        trainX.iloc[:, 0:-noutputs] = self.data_process.z_score_norm(trainX.iloc[:, 0:-noutputs])\n",
    "        testX = self.data_process.z_score_norm(testX)        \n",
    "        # Splitting og traindata\n",
    "        x_train, y_train = self.data_process.pred_target_split(trainX, noutputs = noutputs)              \n",
    "        # introduce the bias term in the feature vector \n",
    "        x_train[\"bias\"] = 1\n",
    "        testX[\"bias\"] = 1\n",
    "        # Convert Dataframe to Numpy array\n",
    "        x_train = x_train.values\n",
    "        y_train = y_train.values \n",
    "        # Intializing the prediction array with zeros\n",
    "        prediction = np.zeros((testX.shape[0], noutputs)) \n",
    "        # fitiing the model\n",
    "        model = self.cv_fit(x_train, y_train, self.k_fold)\n",
    "        # kernel selection iff statement\n",
    "        if model[\"kernel\"] is \"gaussian\":\n",
    "            # Redefine in gaussian feature\n",
    "            gaus = self.gauss_kernel(pd.DataFrame(np.concatenate((x_train, testX.values))),\n",
    "                                                self.n_points)\n",
    "            x_train_gaus = gaus[0:len(x_train), :]  \n",
    "            x_test_gaus = gaus[len(x_train):, :]\n",
    "            # Initialize the identity matrix for the equation\n",
    "            identity = np.identity(x_train_gaus.shape[1])\n",
    "            # using training data to train the model\n",
    "            inverse = np.linalg.inv(model[\"lamda\"] * identity + np.dot(x_train_gaus.T, x_train_gaus))\n",
    "            data_term = np.dot(x_train_gaus.T, y_train)\n",
    "            weights = np.dot(inverse, data_term)\n",
    "            # prediction using test data\n",
    "            prediction = np.dot(x_test_gaus, weights)\n",
    "        else:\n",
    "            # Initialize the identity matrix for the equation\n",
    "            identity = np.identity(x_train.shape[1])\n",
    "            # Using training data to train the model\n",
    "            inverse = np.linalg.inv(model[\"lamda\"] * identity + np.dot(x_train.T, x_train))\n",
    "            data_term = np.dot(x_train.T, y_train)\n",
    "            weights = np.dot(inverse, data_term)\n",
    "            # prediction with test data\n",
    "            prediction = np.dot(testX.values, weights)\n",
    "        return prediction"
   ]
  },
  {
   "cell_type": "markdown",
   "metadata": {},
   "source": [
    "### Above, we had our main two classes that contains the function needed for calculating the regression using numpy packages. Let's use those find the prediction for each dataset one by one."
   ]
  },
  {
   "cell_type": "markdown",
   "metadata": {},
   "source": [
    "# Answer problem 3\n",
    "# In this part, we fit the train and test data to the model and compute mean square error:\n"
   ]
  },
  {
   "cell_type": "markdown",
   "metadata": {},
   "source": [
    "## Airfoil Dataset"
   ]
  },
  {
   "cell_type": "code",
   "execution_count": 8,
   "metadata": {},
   "outputs": [
    {
     "data": {
      "text/plain": [
       "array([127.38036158, 124.96862544, 123.82925624, 126.441137  ,\n",
       "       118.29693806, 124.01201993, 123.31394574, 126.40474422,\n",
       "       120.05607273, 117.90367729, 122.446263  , 115.58186675,\n",
       "       125.77966593, 121.70756646, 122.46146246, 120.28579789,\n",
       "       119.52955084, 129.63692885, 129.2297189 , 128.7643361 ,\n",
       "       127.42636056, 126.43742212, 127.22460574, 127.25542053,\n",
       "       127.05763284, 129.59025257, 128.71765983, 126.58216195,\n",
       "       124.72063077, 123.38265523, 119.71776571, 117.57477464,\n",
       "       105.94020472, 127.06832933, 122.99622986, 123.14675706,\n",
       "       124.95297585, 127.77724495, 127.57945726, 127.34676586,\n",
       "       123.85639488, 124.16022542, 125.99069294, 125.05992735,\n",
       "       124.92811838, 124.13115034, 116.87711445, 130.21019628,\n",
       "       128.05780084, 119.33187341, 123.03100694, 127.67115591,\n",
       "       131.73671934, 128.01365696, 128.96520857, 117.91236715,\n",
       "       127.68483125, 128.85355503, 120.47666469, 121.54319529,\n",
       "       118.46740166, 125.8912421 , 126.32114714, 125.39038155,\n",
       "       123.58702321, 125.03754532, 119.93753032, 115.22191455,\n",
       "       121.4476544 , 114.48436431, 116.78905469, 109.92465844,\n",
       "       125.97213274, 133.17761563, 130.26897315, 132.22802977,\n",
       "       124.48562187, 126.51346099, 131.30788053, 128.90430074,\n",
       "       131.08710878, 128.35298485, 130.653458  , 129.66451956,\n",
       "       126.9975247 , 122.92774748, 120.2517964 , 125.58292057,\n",
       "       118.61963048, 124.02972938, 122.66183418, 121.94049084,\n",
       "       124.12267133, 123.54094283, 131.22862684, 119.94309402,\n",
       "       133.18327044, 126.20252849, 123.41294433, 132.93381607,\n",
       "       132.78256666, 128.09960445, 128.36434303, 126.85184894,\n",
       "       130.31919488, 126.43996019, 129.85244402, 129.38706122,\n",
       "       124.50054186, 130.53915302, 129.84107883, 127.7987941 ,\n",
       "       124.86688249, 128.49796165, 127.77661831, 125.56605003,\n",
       "       127.17828069, 125.55386749, 125.43752179, 120.20196533,\n",
       "       126.04505421, 119.18065797, 117.20278108, 123.01074725,\n",
       "       135.0017487 , 124.10015669, 129.54729371, 122.56655176,\n",
       "       119.65790928, 123.34509655, 128.97985305, 132.0124765 ,\n",
       "       129.72821756, 121.87488287, 128.84973425, 128.07446729,\n",
       "       127.3763931 , 126.6783189 , 130.57105926, 126.1499227 ,\n",
       "       126.97141077, 126.85506507, 123.21091053, 116.61410939,\n",
       "       120.36168208, 118.1511138 , 120.66724021, 119.73647462,\n",
       "       122.36995151, 117.52578617])"
      ]
     },
     "execution_count": 8,
     "metadata": {},
     "output_type": "execute_result"
    }
   ],
   "source": [
    "af_regressor = Regression()\n",
    "af_data_process = ProcessMyData()\n",
    "af_df_train, af_df_test = af_data_process.train_test_split(af_df)\n",
    "prediction = af_regressor.my_regression(af_df_train, af_df_test.iloc[:, 0:-1], 1)\n",
    "prediction.reshape(len(prediction), )"
   ]
  },
  {
   "cell_type": "markdown",
   "metadata": {},
   "source": [
    "Above are the prediction values for the airfoil dataset using the selected model on the test set.\n"
   ]
  },
  {
   "cell_type": "code",
   "execution_count": 9,
   "metadata": {},
   "outputs": [
    {
     "data": {
      "text/plain": [
       "[{'weights': array([[ -3.93108054],\n",
       "         [ -2.43710297],\n",
       "         [ -3.40901061],\n",
       "         [  1.51820789],\n",
       "         [ -2.03213135],\n",
       "         [124.97664959]]),\n",
       "  'kernel': 'linear',\n",
       "  'lamda': 0,\n",
       "  'lmse': 23.52880440873517}]"
      ]
     },
     "execution_count": 9,
     "metadata": {},
     "output_type": "execute_result"
    }
   ],
   "source": [
    "af_regressor.model_param"
   ]
  },
  {
   "cell_type": "markdown",
   "metadata": {},
   "source": [
    "\n",
    "these are parameters used for the model using the model param variable of the regressor class object.\n",
    "\n",
    "Thus, after 5-fold cross validation and model selection on airfoil dataset, we got the following parameters and values:\n",
    "\n",
    "Kernel : Linear, Lamda value : 0, Least Mean Square Error value: ~23.53"
   ]
  },
  {
   "cell_type": "code",
   "execution_count": 10,
   "metadata": {},
   "outputs": [
    {
     "name": "stdout",
     "output_type": "stream",
     "text": [
      "22.62\n"
     ]
    }
   ],
   "source": [
    "lmse = af_regressor.lmse(af_df_test.iloc[:, -1].values.reshape(len(af_df_test), 1), prediction)\n",
    "print(lmse)"
   ]
  },
  {
   "cell_type": "markdown",
   "metadata": {},
   "source": [
    "Which is the Least Square Error on the test set using Linear bsis function \n",
    "\n"
   ]
  },
  {
   "cell_type": "markdown",
   "metadata": {},
   "source": [
    "## Yachat Hydro Dataset"
   ]
  },
  {
   "cell_type": "code",
   "execution_count": 11,
   "metadata": {},
   "outputs": [
    {
     "data": {
      "text/plain": [
       "array([-4.76064772, 14.83740013,  2.56878054, -1.66703653, 20.57809108,\n",
       "       18.19355312, -8.03261645,  6.60016234, 15.22327955, -2.28550914,\n",
       "        0.38482661,  6.85874629, 45.57233175, -0.25510184,  6.9014568 ,\n",
       "        0.26016558,  2.50375125,  6.2226378 ,  8.63476198, 18.39916195,\n",
       "       -7.9001485 ,  3.43522877, 11.30709786, 33.45558517, 11.14623578,\n",
       "       27.51530965, 42.55932638,  2.19005236, 16.74122166, -0.39066549,\n",
       "       35.60489132])"
      ]
     },
     "execution_count": 11,
     "metadata": {},
     "output_type": "execute_result"
    }
   ],
   "source": [
    "yh_regressor = Regression()\n",
    "yh_data_process = ProcessMyData()\n",
    "yh_df_train, yh_df_test = yh_data_process.train_test_split(yh_df)\n",
    "prediction = yh_regressor.my_regression(yh_df_train, yh_df_test.iloc[:, 0:-1], 1)\n",
    "prediction.reshape(len(prediction))"
   ]
  },
  {
   "cell_type": "code",
   "execution_count": 12,
   "metadata": {},
   "outputs": [
    {
     "data": {
      "text/plain": [
       "[{'weights': array([[-4450.43210582],\n",
       "         [  291.63731932],\n",
       "         [  278.2486656 ],\n",
       "         [-6503.23322521],\n",
       "         [ 1472.90486099],\n",
       "         [ 5744.21387913],\n",
       "         [ 3174.18007623],\n",
       "         [  155.826119  ],\n",
       "         [  100.46034331],\n",
       "         [  -54.9160325 ]]),\n",
       "  'kernel': 'gaussian',\n",
       "  'lamda': 0,\n",
       "  'lmse': 69.38978535549354}]"
      ]
     },
     "execution_count": 12,
     "metadata": {},
     "output_type": "execute_result"
    }
   ],
   "source": [
    "yh_regressor.model_param"
   ]
  },
  {
   "cell_type": "markdown",
   "metadata": {},
   "source": [
    "Thus, after 5-fold cross validation and model selection on Yachat Hydro dataset, we got the following parameters and values:\n",
    "\n",
    "Kernel : Guassian, Lamda value : 0, Least Mean Square Error value: ~69.39"
   ]
  },
  {
   "cell_type": "code",
   "execution_count": 13,
   "metadata": {},
   "outputs": [
    {
     "name": "stdout",
     "output_type": "stream",
     "text": [
      "65.72\n"
     ]
    }
   ],
   "source": [
    "lmse = yh_regressor.lmse(yh_df_test.iloc[:, -1].values.reshape(len(yh_df_test), 1), prediction)\n",
    "print(round(lmse, 2))"
   ]
  },
  {
   "cell_type": "markdown",
   "metadata": {},
   "source": [
    "Which is the Least Square Error on the test set using Guassian basis function.\n"
   ]
  },
  {
   "cell_type": "markdown",
   "metadata": {},
   "source": [
    "## concrete_slump"
   ]
  },
  {
   "cell_type": "code",
   "execution_count": 14,
   "metadata": {},
   "outputs": [
    {
     "data": {
      "text/plain": [
       "array([[10.84145082, 29.46887886, 39.60993182],\n",
       "       [23.76156758, 63.0910487 , 33.47679517],\n",
       "       [20.30244518, 62.01817462, 43.03426264],\n",
       "       [14.34046326, 48.1791982 , 37.89242711],\n",
       "       [25.02701376, 61.99076048, 15.12328452],\n",
       "       [21.9979371 , 62.0532411 , 45.79140882],\n",
       "       [19.73383869, 49.02034691, 38.15884348],\n",
       "       [21.07216389, 51.74733482, 32.9473331 ],\n",
       "       [ 8.76262918, 26.92591148, 42.01170465],\n",
       "       [16.70258562, 51.22764592, 39.48699892]])"
      ]
     },
     "execution_count": 14,
     "metadata": {},
     "output_type": "execute_result"
    }
   ],
   "source": [
    "cs_regressor = Regression()\n",
    "cs_data_process = ProcessMyData()\n",
    "cs_df_train, cs_df_test = cs_data_process.train_test_split(cs_df)\n",
    "prediction = cs_regressor.my_regression(cs_df_train, cs_df_test.iloc[:, 0:-3], 3)\n",
    "prediction"
   ]
  },
  {
   "cell_type": "code",
   "execution_count": 15,
   "metadata": {},
   "outputs": [
    {
     "data": {
      "text/plain": [
       "[{'weights': array([[-3.14231788e+03, -7.15007386e+03,  2.35835896e+03],\n",
       "         [-4.48973236e+02, -8.82282785e+02,  3.02057810e+02],\n",
       "         [-2.16084648e+03, -4.65681595e+03,  1.86788103e+03],\n",
       "         [-2.70389695e+02, -6.47593437e+02, -1.06587181e+02],\n",
       "         [ 3.18512739e+03,  7.01240220e+03, -2.45327773e+03],\n",
       "         [-1.25887947e+01, -1.28300303e+02,  2.81716488e+02],\n",
       "         [ 2.52789790e+03,  5.82875797e+03, -1.65274867e+03],\n",
       "         [-1.39649038e+01, -7.17956468e+01, -4.97809033e+02],\n",
       "         [-2.86226553e+01,  1.98747914e+00, -3.04354173e+01],\n",
       "         [ 3.42654295e+02,  6.45876045e+02,  2.53512695e+00]]),\n",
       "  'kernel': 'gaussian',\n",
       "  'lamda': 0,\n",
       "  'lmse': 203.65777859520887}]"
      ]
     },
     "execution_count": 15,
     "metadata": {},
     "output_type": "execute_result"
    }
   ],
   "source": [
    "cs_regressor.model_param"
   ]
  },
  {
   "cell_type": "markdown",
   "metadata": {},
   "source": [
    "The lmse after 5-fold cross-validation is :\n",
    "\n",
    "- Kernel : gaussian\n",
    "- Lamda value : 0\n",
    "- Least Mean Square Error value: ~203.66\n",
    "In this dataset, the Least mean square error is calculated as a average over all the three outputs while during the model selection\n"
   ]
  },
  {
   "cell_type": "code",
   "execution_count": 16,
   "metadata": {
    "scrolled": true
   },
   "outputs": [
    {
     "name": "stdout",
     "output_type": "stream",
     "text": [
      "Lmse:\n",
      "Slump: 67.83\n",
      "Flow: 381.91\n",
      "Compressive Strength: 21.16\n"
     ]
    }
   ],
   "source": [
    "lmse_list = []\n",
    "for i in range(0, 3):\n",
    "    lmse = cs_regressor.lmse(cs_df_test.iloc[:, -3 + i].values.reshape(len(cs_df_test), ), \n",
    "                          prediction[:, i].reshape(len(prediction), ))\n",
    "    lmse_list.append(round(lmse, 2))\n",
    "\n",
    "print(\"Lmse:\")\n",
    "print(\"Slump:\", lmse_list[0])\n",
    "print(\"Flow:\", lmse_list[1])\n",
    "print(\"Compressive Strength:\", lmse_list[2])"
   ]
  },
  {
   "cell_type": "markdown",
   "metadata": {},
   "source": [
    "Which are the Least Square Error on the test set using Guassian basis function for three outputs.\n"
   ]
  },
  {
   "cell_type": "markdown",
   "metadata": {},
   "source": [
    "#### Are the results reasonable? Do you get squared errors that are close to mine? (I'll release linear basis function squared errors)\n",
    "\n",
    "\n",
    " The least mean square error we obtained for three different set makes sense. Lets compare these values using scikit learn. \n",
    " The errors calculatded by our model are not exactly same as the errors you provided  but they are close."
   ]
  },
  {
   "cell_type": "code",
   "execution_count": 17,
   "metadata": {},
   "outputs": [],
   "source": [
    "# import linear model and mean square error \n",
    "from sklearn import linear_model\n",
    "from sklearn.metrics import mean_squared_error\n",
    "\n",
    "# create a function using sklearn methods\n",
    "def sklearn_regression(trainX, testX, noutputs = 1):\n",
    "    # Creating linear regression object\n",
    "    regr = linear_model.LinearRegression()\n",
    "    \n",
    "    # Creating DataProcessing class object \n",
    "    data_process = ProcessMyData()\n",
    "    \n",
    "    x_train, y_train = data_process.pred_target_split(trainX, noutputs = noutputs)\n",
    "\n",
    "    # fit train data to the model\n",
    "    regr.fit(x_train, y_train)\n",
    "\n",
    "    # predicting using test data\n",
    "    pred = regr.predict(testX.iloc[:, 0:-noutputs].values)\n",
    "\n",
    "    print(\"Mean squared error: %.2f\"\n",
    "          % mean_squared_error(testX.iloc[:, -noutputs].values, pred))"
   ]
  },
  {
   "cell_type": "markdown",
   "metadata": {},
   "source": [
    "## Airfol dataset"
   ]
  },
  {
   "cell_type": "code",
   "execution_count": 18,
   "metadata": {},
   "outputs": [
    {
     "name": "stdout",
     "output_type": "stream",
     "text": [
      "Mean squared error: 22.58\n"
     ]
    }
   ],
   "source": [
    "af_df_train, af_df_test = af_data_process.train_test_split(af_df)\n",
    "sklearn_regression(af_df_train, af_df_test)"
   ]
  },
  {
   "cell_type": "markdown",
   "metadata": {},
   "source": [
    "Which is very close to 22.62 that we obtained using regression function."
   ]
  },
  {
   "cell_type": "markdown",
   "metadata": {},
   "source": [
    "## Yachat hydro dataset"
   ]
  },
  {
   "cell_type": "code",
   "execution_count": 19,
   "metadata": {},
   "outputs": [
    {
     "name": "stdout",
     "output_type": "stream",
     "text": [
      "Mean squared error: 80.77\n"
     ]
    }
   ],
   "source": [
    "yh_df_train, yacht_hydro_df_test = yh_data_process.train_test_split(yh_df)\n",
    "sklearn_regression(yh_df_train, yh_df_test)"
   ]
  },
  {
   "cell_type": "markdown",
   "metadata": {},
   "source": [
    "we obtained 65.72 using our model. This is not in very good agrrement with the value obtained using scikit-learn. our model gives less value of least square error. In our model we trained 90% data and used 10% data for validation.\n"
   ]
  },
  {
   "cell_type": "markdown",
   "metadata": {},
   "source": [
    "## Concrete slump dataset"
   ]
  },
  {
   "cell_type": "code",
   "execution_count": 20,
   "metadata": {},
   "outputs": [
    {
     "name": "stdout",
     "output_type": "stream",
     "text": [
      "Mean squared error: 58.367\n",
      "Mean squared error: 254.353\n",
      "Mean squared error: 5.939\n"
     ]
    }
   ],
   "source": [
    "cs_df_train, cs_df_test = cs_data_process.train_test_split(cs_df)\n",
    "\n",
    "# Creating regression object\n",
    "regr = linear_model.LinearRegression()\n",
    "\n",
    "x_train, y_train = cs_data_process.pred_target_split(cs_df_train, noutputs = 3)\n",
    "\n",
    "for i in range(0, 3):\n",
    "    # fitting training data\n",
    "    regr.fit(x_train, y_train.iloc[:, i])\n",
    "\n",
    "    # make prediction\n",
    "    pred = regr.predict(cs_df_test.iloc[:, 0:-3].values)\n",
    "\n",
    "    print(\"Mean squared error: %.3f\"\n",
    "          % mean_squared_error(cs_df_test.iloc[:, i-3].values, pred))"
   ]
  },
  {
   "cell_type": "markdown",
   "metadata": {},
   "source": [
    "Our model gave Lmse:\n",
    "Slump: 67.83\n",
    "Flow: 381.91\n",
    "Compressive Strength: 21.16. This shows our model is doing good prediction as well. "
   ]
  },
  {
   "cell_type": "markdown",
   "metadata": {},
   "source": [
    "##  Can you do better than linear basis function prediction?\n",
    "\n",
    "Yes of course, in our case guassian basis function is doing better prediction than linear basis function. As we increase n-points(  Number of gaussian kernels/functions/points) in our algoritm, model learns better. Further, if we provide many n-points, the algorithm over fit the data and bias will increase. So, after training our model, we need to see how it is performing on the test data.\n",
    "\n",
    "In many problems, such a linear relationship may not hold.\n",
    "Polynomial regression is the most traditional way to extend the linear model. As we increase the degree of polynomial, a polynomial regression allows us to produce very non-linear curves while still estimating the coefficients using least squares. Further, Polynomials are global basis functions,each afecting the prediction over the whole input space.Often,local basis functions are more appropriate.One possibility is to use functions proportionalto Gaussian probability densities, which is Guassian basis function. We have used linear and Guassian basis function in our model."
   ]
  },
  {
   "cell_type": "markdown",
   "metadata": {},
   "source": [
    "## Question 2\n",
    "\n",
    "2) Test your regression on a simple one-dimensional data set, where your training data is generated by the following function:\n"
   ]
  },
  {
   "cell_type": "code",
   "execution_count": 21,
   "metadata": {},
   "outputs": [],
   "source": [
    "x = np.arange(-5,5,0.1)\n",
    "y = (np.cos(x**2))+ 0.1*x**3\n"
   ]
  },
  {
   "cell_type": "markdown",
   "metadata": {},
   "source": [
    "### Creating DataFrame"
   ]
  },
  {
   "cell_type": "code",
   "execution_count": 22,
   "metadata": {},
   "outputs": [
    {
     "data": {
      "text/html": [
       "<div>\n",
       "<style scoped>\n",
       "    .dataframe tbody tr th:only-of-type {\n",
       "        vertical-align: middle;\n",
       "    }\n",
       "\n",
       "    .dataframe tbody tr th {\n",
       "        vertical-align: top;\n",
       "    }\n",
       "\n",
       "    .dataframe thead th {\n",
       "        text-align: right;\n",
       "    }\n",
       "</style>\n",
       "<table border=\"1\" class=\"dataframe\">\n",
       "  <thead>\n",
       "    <tr style=\"text-align: right;\">\n",
       "      <th></th>\n",
       "      <th>X</th>\n",
       "      <th>Y</th>\n",
       "    </tr>\n",
       "  </thead>\n",
       "  <tbody>\n",
       "    <tr>\n",
       "      <th>0</th>\n",
       "      <td>-5.0</td>\n",
       "      <td>-11.508797</td>\n",
       "    </tr>\n",
       "    <tr>\n",
       "      <th>1</th>\n",
       "      <td>-4.9</td>\n",
       "      <td>-11.331687</td>\n",
       "    </tr>\n",
       "    <tr>\n",
       "      <th>2</th>\n",
       "      <td>-4.8</td>\n",
       "      <td>-11.557767</td>\n",
       "    </tr>\n",
       "  </tbody>\n",
       "</table>\n",
       "</div>"
      ],
      "text/plain": [
       "     X          Y\n",
       "0 -5.0 -11.508797\n",
       "1 -4.9 -11.331687\n",
       "2 -4.8 -11.557767"
      ]
     },
     "execution_count": 22,
     "metadata": {},
     "output_type": "execute_result"
    }
   ],
   "source": [
    "d = {'X': x, 'Y': y}\n",
    "df = pd.DataFrame(d, columns = ['X', 'Y'])\n",
    "df.head(3)"
   ]
  },
  {
   "cell_type": "markdown",
   "metadata": {},
   "source": [
    "### Problem 2(a)\n",
    "Plot y versus x (y on vertical axis, x on horizontal axis) as a line with noise variance = 0. This is the truth that you wish your regression model to fit to. Plot from x = -5 to +5 at increments of 0.1.\n",
    "\n",
    "Fitting best kernel with best vlaue of lamda to the data"
   ]
  },
  {
   "cell_type": "code",
   "execution_count": 23,
   "metadata": {},
   "outputs": [
    {
     "data": {
      "text/plain": [
       "<matplotlib.legend.Legend at 0x7f6fc6d98048>"
      ]
     },
     "execution_count": 23,
     "metadata": {},
     "output_type": "execute_result"
    },
    {
     "data": {
      "image/png": "[encoded data removed]",
      "text/plain": [
       "<Figure size 864x576 with 1 Axes>"
      ]
     },
     "metadata": {
      "needs_background": "light"
     },
     "output_type": "display_data"
    }
   ],
   "source": [
    "plt.figure(figsize=(12,8))\n",
    "plt.plot(x,y,'o', label ='Real Data')\n",
    "plt.legend()"
   ]
  },
  {
   "cell_type": "markdown",
   "metadata": {},
   "source": [
    "The weitht values, best kernel, best lambda and mean sqare error obtained after using regression function are:"
   ]
  },
  {
   "cell_type": "markdown",
   "metadata": {},
   "source": [
    "## Using Regression function to the data in Problem (2)"
   ]
  },
  {
   "cell_type": "code",
   "execution_count": 24,
   "metadata": {},
   "outputs": [],
   "source": [
    "q2_regressor = Regression()\n",
    "q2_data_process = ProcessMyData()\n",
    "q2_df_train, q2_df_test = q2_data_process.train_test_split(df)\n",
    "pprediction = q2_regressor.my_regression(q2_df_train, df.iloc[:, 0:-1], 1)\n",
    "#pprediction"
   ]
  },
  {
   "cell_type": "code",
   "execution_count": 25,
   "metadata": {
    "scrolled": true
   },
   "outputs": [
    {
     "data": {
      "text/plain": [
       "[{'weights': array([[ 101.03000965],\n",
       "         [-249.40583371],\n",
       "         [ 146.80810813],\n",
       "         [ 251.2069828 ],\n",
       "         [  10.75689526],\n",
       "         [-241.64503047],\n",
       "         [-169.18122209],\n",
       "         [  26.52994727],\n",
       "         [ 209.12040737],\n",
       "         [ -86.89985924]]),\n",
       "  'kernel': 'gaussian',\n",
       "  'lamda': 0.0001,\n",
       "  'lmse': 0.6084960100564676}]"
      ]
     },
     "execution_count": 25,
     "metadata": {},
     "output_type": "execute_result"
    }
   ],
   "source": [
    "q2_regressor.model_param"
   ]
  },
  {
   "cell_type": "markdown",
   "metadata": {},
   "source": [
    "Thus, after applying regression function to the data, for the best prediction Regression function takes guassian kernel for lambda = 0.0001 with mean square error 0.608."
   ]
  },
  {
   "cell_type": "markdown",
   "metadata": {},
   "source": [
    "# Defining Error "
   ]
  },
  {
   "cell_type": "code",
   "execution_count": 26,
   "metadata": {},
   "outputs": [],
   "source": [
    "def Error(sig, x):\n",
    "    ee= np.random.normal(0, sig, len(x))\n",
    "    return ee"
   ]
  },
  {
   "cell_type": "markdown",
   "metadata": {},
   "source": [
    "# Error for different standard deviations "
   ]
  },
  {
   "cell_type": "code",
   "execution_count": 27,
   "metadata": {},
   "outputs": [],
   "source": [
    "ee1=  Error(0.1, x)\n",
    "ee2=  Error(0.2, x)\n",
    "ee3=  Error(0.5, x)\n",
    "ee4=  Error(1, x)"
   ]
  },
  {
   "cell_type": "markdown",
   "metadata": {},
   "source": [
    "## Problem 2(b)\n",
    "\n",
    "Plot y versus x for standard deviations  σ = 0.1 , 0.2 , 0.5 , 1 . Each line should be a different color. Make sure your plots are labeled with a legend. You will now use your regression function to see how close you can come to the truth in part a) based on noisy measurements."
   ]
  },
  {
   "cell_type": "code",
   "execution_count": 28,
   "metadata": {},
   "outputs": [
    {
     "data": {
      "text/plain": [
       "<matplotlib.legend.Legend at 0x7f6fc6afe0f0>"
      ]
     },
     "execution_count": 28,
     "metadata": {},
     "output_type": "execute_result"
    },
    {
     "data": {
      "image/png": "[encoded data removed]",
      "text/plain": [
       "<Figure size 864x576 with 1 Axes>"
      ]
     },
     "metadata": {
      "needs_background": "light"
     },
     "output_type": "display_data"
    }
   ],
   "source": [
    "plt.figure(figsize=(12,8))\n",
    "plt.plot(x,y+ee1,label= 'sigma=0.1')\n",
    "plt.plot(x,y+ee2,label= 'sigma=0.2' )\n",
    "plt.plot(x,y+ee3, label= 'sigma=0.5')\n",
    "plt.plot(x,y+ee4, label= 'sigma= 1')\n",
    "plt.xlabel('X-values'), plt.ylabel('y-values')\n",
    "plt.legend()"
   ]
  },
  {
   "cell_type": "markdown",
   "metadata": {},
   "source": [
    "## Problem 2(c)"
   ]
  },
  {
   "cell_type": "markdown",
   "metadata": {},
   "source": [
    "Now you will run an experiment where you will see how close your regression is to the truth based on the variance of the noise and the number of training data. Make a table that has number of training data [2,5,10,20,50,100,200,500] in the rows and the standard deviations from part b) in the column. Run 5-fold cross validation on each of these 32 combinations of parameters and report the cross-validation squared error."
   ]
  },
  {
   "cell_type": "code",
   "execution_count": 29,
   "metadata": {
    "scrolled": false
   },
   "outputs": [
    {
     "data": {
      "text/plain": [
       "1000"
      ]
     },
     "execution_count": 29,
     "metadata": {},
     "output_type": "execute_result"
    }
   ],
   "source": [
    "xx = np.arange(-5,5,0.01)\n",
    "yy = (np.cos(xx**2))+ 0.1*xx**3\n",
    "len(xx)"
   ]
  },
  {
   "cell_type": "markdown",
   "metadata": {},
   "source": [
    "## we need to increase data points inorder to select upto 500 trianing_data to fit the model, that's why we created 1000 data points"
   ]
  },
  {
   "cell_type": "code",
   "execution_count": 30,
   "metadata": {},
   "outputs": [],
   "source": [
    "ee1=  Error(0.1, xx)\n",
    "ee2=  Error(0.2, xx)\n",
    "ee3=  Error(0.5, xx)\n",
    "ee4=  Error(1, xx)"
   ]
  },
  {
   "cell_type": "code",
   "execution_count": 31,
   "metadata": {},
   "outputs": [],
   "source": [
    "d1 = {'X': xx, 'Y': yy+ee1}\n",
    "d2 = {'X': xx, 'Y': yy+ee2}\n",
    "d3 = {'X': xx, 'Y': yy+ee3}\n",
    "d4 = {'X': xx, 'Y': yy+ee4}\n",
    "\n",
    "\n",
    "df1 = pd.DataFrame(d1, columns = ['X', 'Y'])\n",
    "df2 = pd.DataFrame(d2, columns = ['X', 'Y'])\n",
    "df3 = pd.DataFrame(d3, columns = ['X', 'Y'])\n",
    "df4 = pd.DataFrame(d4, columns = ['X', 'Y'])"
   ]
  },
  {
   "cell_type": "markdown",
   "metadata": {},
   "source": [
    " ####  For just 2 training data, I cant not do 5-fold cross validation using my regression function.\n",
    " \n",
    " ## Error Table [Answer 2(b)]\n",
    "\n",
    "Next, my regression function makes best choices between linear and guassian kernel depending upon the other parameters like training, test data volume and n_points: Number of gaussian kernels/functions/points to refine into. So, depending upon the given parameters, I had to update my function too. So, here I am making a table for cross-validation squared error for 32 combinations after running 5-fold cross validation on each of these 32 combinations of parameters. \n",
    "\n",
    "I used lambda = 0.001, and n_points = 5 for only 5 row training data and n_points = 10 for rest of all.\n",
    "\n"
   ]
  },
  {
   "cell_type": "code",
   "execution_count": 32,
   "metadata": {},
   "outputs": [],
   "source": [
    "class Pmyd:\n",
    "\n",
    "    def __init__(self):\n",
    "\n",
    "        pass\n",
    "    \n",
    "    def z_score_norm(self, data):\n",
    "\n",
    "        # Following formula uses mean and standrand deviation for the normalization\n",
    "        norm_df = (data - data.mean()) / data.std()\n",
    "        return pd.DataFrame(norm_df)\n",
    "    \n",
    "    def train_test_split(self, data, cut_at = 0.05):\n",
    "\n",
    "        # train, test splitting\n",
    "        train = data.sample(frac = cut_at, random_state = 200)\n",
    "        test = data.drop(train.index)\n",
    "        return train, test\n",
    "    \n",
    "    def pred_target_split(self, data, noutputs = 1):\n",
    "\n",
    "        # selecting predictors\n",
    "        predictors = data.iloc[:, 0:-noutputs]\n",
    "        # selecting target\n",
    "        outputs = data.iloc[:, -noutputs:]\n",
    "        return predictors, outputs\n",
    "    \n",
    "    def cross_val(self,data):\n",
    "\n",
    "        # Creating K-Fold cross validation index.\n",
    "        kf = KFold(n_splits=5, random_state=None, shuffle=False)   \n",
    "        nf =kf.split(data)\n",
    "        return nf\n",
    "\n",
    "\n",
    "class Mod_Regression:\n",
    " \n",
    "    \n",
    "    # Creating the data Processing object for training data\n",
    "    data_process = Pmyd()\n",
    "    \n",
    "    def __init__(self, k_fold = 5):           \n",
    "        self.k_fold = k_fold\n",
    "        self.lamda_values = [0.001]\n",
    "        self.kernels = [\"linear\", \"gaussian\"]\n",
    "        self.parameters_list = []\n",
    "        self.n_points = 10                 \n",
    "        self.model_param = []\n",
    "        \n",
    "    def lmse(self, actual, pred):\n",
    "\n",
    "        # Computing the LMSE and rounding of to two digits\n",
    "        lmse = round(np.sum((actual - pred) ** 2) / len(actual), 2)\n",
    "        return lmse\n",
    "\n",
    "    def gauss_kernel(self, data, n_points = 10):   \n",
    "\n",
    "        # Set the sigma value to be no. of original features\n",
    "        sigma = data.shape[1]\n",
    "        # Setting the random seed and sampling the points from the data\n",
    "        random.seed(100)\n",
    "        points = random.sample(list(data.index), n_points)\n",
    "        # Initialize the gaussian kernel feature vector\n",
    "        gaussian = np.zeros((data.shape[0], n_points))\n",
    "        col = 0\n",
    "        # Iterate through the n points to come up with n gaussian feauture vectors\n",
    "        for point in points:\n",
    "            gaussian[:, col] = np.exp(-np.linalg.norm(data - data.loc[point, :], 2, axis = 1) ** 2 \n",
    "                                      / (2. * sigma ** 2))\n",
    "            col += 1\n",
    "        return gaussian\n",
    "    \n",
    "    def cv_fit(self, x_train, y_train, k_fold):\n",
    "\n",
    "        # Initialize variables \n",
    "        weights = np.zeros((x_train.shape[1],))\n",
    "        best_weights = weights\n",
    "        identity = np.identity(x_train.shape[1])\n",
    "        best_lmse = float(\"inf\")\n",
    "        best_lamda = 0.\n",
    "        best_kernel = \"\"\n",
    "                \n",
    "        # Looping through the basis function (linear and Guassian)\n",
    "        for kernel in self.kernels:\n",
    "            # Chacking the Gaussian function\n",
    "            if kernel is \"gaussian\":\n",
    "                x_train = self.gauss_kernel(pd.DataFrame(x_train), self.n_points)\n",
    "                identity = np.identity(x_train.shape[1])\n",
    "            # Looping through Lamda\n",
    "            for lamda in self.lamda_values:\n",
    "                lmse = 0\n",
    "                for train_index, test_index in self.data_process.cross_val(data=x_train):\n",
    "                    # Split up the train and test for each iteration\n",
    "                    x_train_index = x_train[train_index]\n",
    "                    y_train_index = y_train[train_index]\n",
    "                    x_test_index = x_train[test_index]\n",
    "                    y_test_index = y_train[test_index]\n",
    "                    # Closed form solution for each lamda values\n",
    "                    inverse = np.linalg.inv(lamda*identity + np.dot(x_train_index.T, x_train_index))\n",
    "                    data_term = np.dot(x_train_index.T, y_train_index)\n",
    "                    weights = np.dot(inverse, data_term)\n",
    "                    # Predict with the test set\n",
    "                    prediction = np.dot(x_test_index, weights)\n",
    "                    # Find the LMSE value for the set\n",
    "                    lmse += (np.sum((y_test_index - prediction) ** 2) / len(y_test_index))\n",
    "                # LMSE for each lamda\n",
    "                lmse = lmse / k_fold\n",
    "                # Preparing the parameter list for further analysis\n",
    "                # Storing the result in class variable\n",
    "                parameters = {'basis_function': kernel, \n",
    "                              'lamda': lamda,\n",
    "                              'lmse': lmse,\n",
    "                              'weights': weights}\n",
    "                self.parameters_list.append(parameters)\n",
    "                # Update the best parameters\n",
    "                if best_lmse > lmse:\n",
    "                    best_lmse = lmse\n",
    "                    best_lamda = lamda\n",
    "                    best_weights = weights\n",
    "                    best_kernel = kernel \n",
    "        model_param = {\"weights\": best_weights, \"kernel\": best_kernel, \"lamda\": best_lamda, \"lmse\": best_lmse}\n",
    "        self.model_param.append(model_param)\n",
    "        return model_param\n",
    "\n",
    "    def my_regression(self, trainX, testX, noutputs):\n",
    "\n",
    "        # Normalize the train and test data\n",
    "        trainX.iloc[:, 0:-noutputs] = self.data_process.z_score_norm(trainX.iloc[:, 0:-noutputs])\n",
    "        testX = self.data_process.z_score_norm(testX)        \n",
    "        # Split the train data into predictors and target variables\n",
    "        x_train, y_train = self.data_process.pred_target_split(trainX, noutputs = noutputs)              \n",
    "        # Include the bias term in the feature vector at the last\n",
    "        x_train[\"bias\"] = 1\n",
    "        testX[\"bias\"] = 1\n",
    "        # Convert Dataframe to Numpy array\n",
    "        x_train = x_train.values\n",
    "        y_train = y_train.values \n",
    "        # Intializing the prediction array with zeros\n",
    "        prediction = np.zeros((testX.shape[0], noutputs)) \n",
    "        # Get the best fit for the data with cross validation\n",
    "        model = self.cv_fit(x_train, y_train, self.k_fold)\n",
    "        # Check if the kernel is gaussian\n",
    "        if model[\"kernel\"] is \"gaussian\":\n",
    "            # Redefine in gaussian feature\n",
    "            gaus = self.gauss_kernel(pd.DataFrame(np.concatenate((x_train, testX.values))),\n",
    "                                                self.n_points)\n",
    "            x_train_gaus = gaus[0:len(x_train), :]  \n",
    "            x_test_gaus = gaus[len(x_train):, :]\n",
    "            # Initialize the identity matrix\n",
    "            identity = np.identity(x_train_gaus.shape[1])\n",
    "            # Train training data\n",
    "            inverse = np.linalg.inv(model[\"lamda\"] * identity + np.dot(x_train_gaus.T, x_train_gaus))\n",
    "            data_term = np.dot(x_train_gaus.T, y_train)\n",
    "            weights = np.dot(inverse, data_term)\n",
    "            # Predict with the test data\n",
    "            # Inverse/rescale for the z-score norm\n",
    "            prediction = np.dot(x_test_gaus, weights)\n",
    "        else:\n",
    "            # Initialize the identity matrix\n",
    "            identity = np.identity(x_train.shape[1])\n",
    "            # Train with the whole training data\n",
    "            inverse = np.linalg.inv(model[\"lamda\"] * identity + np.dot(x_train.T, x_train))\n",
    "            data_term = np.dot(x_train.T, y_train)\n",
    "            weights = np.dot(inverse, data_term)\n",
    "            # Predict with the test data\n",
    "            # Inverse/rescale for the z-score norm\n",
    "            prediction = np.dot(testX.values, weights)\n",
    "        return prediction"
   ]
  },
  {
   "cell_type": "code",
   "execution_count": 33,
   "metadata": {},
   "outputs": [],
   "source": [
    "s = {'Test data':[2,5,10,20,50,100,200,500], \n",
    "     'sigma =0.1':['No 5 fold',5.5229441,2.475284902,1.975331744,6.1312529677,5.30660157, 3.7889859773,0.814238838],\n",
    "    'sigma = 0.2':['No 5 fold',6.06637654,2.818687360,1.8272834076,6.2636102986,5.448761678,3.814685644458,0.8494559328 ],\n",
    "    'sigma = 0.5':['No 5 fold',7.17134639,4.173663084965,2.5051651505,6.3403927871,5.695264531,3.9997995518,1.028177343],\n",
    "    'sigma = 1': ['No 5 fold',5.79721231,3.603492799005,3.43393217857,6.9788310931,6.0200290914,4.986896014,1.8016197546],\n",
    "    'Kernel': ['NA', 'Linear','Linear','Linear','Linear','Guassian','Guassian','Guassian']}"
   ]
  },
  {
   "cell_type": "code",
   "execution_count": 34,
   "metadata": {},
   "outputs": [
    {
     "data": {
      "text/html": [
       "<div>\n",
       "<style scoped>\n",
       "    .dataframe tbody tr th:only-of-type {\n",
       "        vertical-align: middle;\n",
       "    }\n",
       "\n",
       "    .dataframe tbody tr th {\n",
       "        vertical-align: top;\n",
       "    }\n",
       "\n",
       "    .dataframe thead th {\n",
       "        text-align: right;\n",
       "    }\n",
       "</style>\n",
       "<table border=\"1\" class=\"dataframe\">\n",
       "  <thead>\n",
       "    <tr style=\"text-align: right;\">\n",
       "      <th></th>\n",
       "      <th>Test data</th>\n",
       "      <th>sigma =0.1</th>\n",
       "      <th>sigma = 0.2</th>\n",
       "      <th>sigma = 0.5</th>\n",
       "      <th>sigma = 1</th>\n",
       "      <th>Kernel</th>\n",
       "    </tr>\n",
       "  </thead>\n",
       "  <tbody>\n",
       "    <tr>\n",
       "      <th>0</th>\n",
       "      <td>2</td>\n",
       "      <td>No 5 fold</td>\n",
       "      <td>No 5 fold</td>\n",
       "      <td>No 5 fold</td>\n",
       "      <td>No 5 fold</td>\n",
       "      <td>NA</td>\n",
       "    </tr>\n",
       "    <tr>\n",
       "      <th>1</th>\n",
       "      <td>5</td>\n",
       "      <td>5.52294</td>\n",
       "      <td>6.06638</td>\n",
       "      <td>7.17135</td>\n",
       "      <td>5.79721</td>\n",
       "      <td>Linear</td>\n",
       "    </tr>\n",
       "    <tr>\n",
       "      <th>2</th>\n",
       "      <td>10</td>\n",
       "      <td>2.47528</td>\n",
       "      <td>2.81869</td>\n",
       "      <td>4.17366</td>\n",
       "      <td>3.60349</td>\n",
       "      <td>Linear</td>\n",
       "    </tr>\n",
       "    <tr>\n",
       "      <th>3</th>\n",
       "      <td>20</td>\n",
       "      <td>1.97533</td>\n",
       "      <td>1.82728</td>\n",
       "      <td>2.50517</td>\n",
       "      <td>3.43393</td>\n",
       "      <td>Linear</td>\n",
       "    </tr>\n",
       "    <tr>\n",
       "      <th>4</th>\n",
       "      <td>50</td>\n",
       "      <td>6.13125</td>\n",
       "      <td>6.26361</td>\n",
       "      <td>6.34039</td>\n",
       "      <td>6.97883</td>\n",
       "      <td>Linear</td>\n",
       "    </tr>\n",
       "    <tr>\n",
       "      <th>5</th>\n",
       "      <td>100</td>\n",
       "      <td>5.3066</td>\n",
       "      <td>5.44876</td>\n",
       "      <td>5.69526</td>\n",
       "      <td>6.02003</td>\n",
       "      <td>Guassian</td>\n",
       "    </tr>\n",
       "    <tr>\n",
       "      <th>6</th>\n",
       "      <td>200</td>\n",
       "      <td>3.78899</td>\n",
       "      <td>3.81469</td>\n",
       "      <td>3.9998</td>\n",
       "      <td>4.9869</td>\n",
       "      <td>Guassian</td>\n",
       "    </tr>\n",
       "    <tr>\n",
       "      <th>7</th>\n",
       "      <td>500</td>\n",
       "      <td>0.814239</td>\n",
       "      <td>0.849456</td>\n",
       "      <td>1.02818</td>\n",
       "      <td>1.80162</td>\n",
       "      <td>Guassian</td>\n",
       "    </tr>\n",
       "  </tbody>\n",
       "</table>\n",
       "</div>"
      ],
      "text/plain": [
       "   Test data sigma =0.1 sigma = 0.2 sigma = 0.5  sigma = 1    Kernel\n",
       "0          2  No 5 fold   No 5 fold   No 5 fold  No 5 fold        NA\n",
       "1          5    5.52294     6.06638     7.17135    5.79721    Linear\n",
       "2         10    2.47528     2.81869     4.17366    3.60349    Linear\n",
       "3         20    1.97533     1.82728     2.50517    3.43393    Linear\n",
       "4         50    6.13125     6.26361     6.34039    6.97883    Linear\n",
       "5        100     5.3066     5.44876     5.69526    6.02003  Guassian\n",
       "6        200    3.78899     3.81469      3.9998     4.9869  Guassian\n",
       "7        500   0.814239    0.849456     1.02818    1.80162  Guassian"
      ]
     },
     "execution_count": 34,
     "metadata": {},
     "output_type": "execute_result"
    }
   ],
   "source": [
    "pd.DataFrame(data=s)"
   ]
  },
  {
   "cell_type": "markdown",
   "metadata": {},
   "source": [
    "Thus, Lowest error is obtained for 500 training data with Gaussian kernel with sigma = 0.1.\n",
    "Highest error is obtained for 50 training data with  Linear kernel with sigma =1. Our model selects best kernel (Linear or Guassian) which has least value of mean square error. "
   ]
  },
  {
   "cell_type": "markdown",
   "metadata": {},
   "source": [
    "## Problem 2(c)\n",
    "#### Select the two best results (lowest error) and two worst results (highest error) from part c) and make four plots. Each plot should show the truth line you plotted in part a) and the learned regression model. Plot from x = -5 to 5 at increments of 0.1. What do you notice about these results?\n",
    "\n",
    "## Solution\n",
    "\n",
    "#### Lowest error is obtained for 500 training data with Gaussian kernel.\n",
    "#### Highest error is obtained for 50 training data with  Linear kernel\n",
    "To solve this problem, it is required to change some parameters: like train_test split ( for different training data numbers [2,5,10, 20, 50,100,200,500], n_ points (number of kernels), which should not be less than training data, so rewriting the above Regression function to fit into new criteria.\n",
    "\n",
    "## For plotting, I am updating regression function as we are asked to choose different training data"
   ]
  },
  {
   "cell_type": "markdown",
   "metadata": {},
   "source": [
    "## Making prediction and calculataing errors"
   ]
  },
  {
   "cell_type": "code",
   "execution_count": 35,
   "metadata": {
    "scrolled": true
   },
   "outputs": [
    {
     "data": {
      "text/plain": [
       "[{'weights': array([[ 3.62407622],\n",
       "         [-0.29552286]]),\n",
       "  'kernel': 'linear',\n",
       "  'lamda': 0.001,\n",
       "  'lmse': 6.295464666190499}]"
      ]
     },
     "execution_count": 35,
     "metadata": {},
     "output_type": "execute_result"
    }
   ],
   "source": [
    "q21_regressor = Mod_Regression()\n",
    "q21_data_process = Pmyd()\n",
    "q21_df_train, q21_df_test = q21_data_process.train_test_split(df1)\n",
    "prediction1 = q21_regressor.my_regression(q21_df_train, df1.iloc[:, 0:-1], 1)\n",
    "\n",
    "\n",
    "q21_regressor.model_param"
   ]
  },
  {
   "cell_type": "code",
   "execution_count": 36,
   "metadata": {},
   "outputs": [],
   "source": [
    "q22_regressor = Mod_Regression()\n",
    "q22_data_process = Pmyd()\n",
    "q22_df_train, q22_df_test = q22_data_process.train_test_split(df2)\n",
    "prediction2 = q22_regressor.my_regression(q22_df_train, df.iloc[:, 0:-1], 1)"
   ]
  },
  {
   "cell_type": "code",
   "execution_count": 37,
   "metadata": {},
   "outputs": [
    {
     "data": {
      "text/plain": [
       "[{'weights': array([[ 3.68780221],\n",
       "         [-0.36902905]]),\n",
       "  'kernel': 'linear',\n",
       "  'lamda': 0.001,\n",
       "  'lmse': 5.88365705379149}]"
      ]
     },
     "execution_count": 37,
     "metadata": {},
     "output_type": "execute_result"
    }
   ],
   "source": [
    "q22_regressor.model_param"
   ]
  },
  {
   "cell_type": "code",
   "execution_count": 38,
   "metadata": {},
   "outputs": [],
   "source": [
    "q23_regressor = Mod_Regression()\n",
    "q23_data_process = Pmyd()\n",
    "q23_df_train, q23_df_test = q23_data_process.train_test_split(df3)\n",
    "prediction3 = q23_regressor.my_regression(q23_df_train, df.iloc[:, 0:-1], 1)"
   ]
  },
  {
   "cell_type": "code",
   "execution_count": 39,
   "metadata": {},
   "outputs": [
    {
     "data": {
      "text/plain": [
       "[{'weights': array([[ 3.56783007],\n",
       "         [-0.21513237]]),\n",
       "  'kernel': 'linear',\n",
       "  'lamda': 0.001,\n",
       "  'lmse': 6.340337231638774}]"
      ]
     },
     "execution_count": 39,
     "metadata": {},
     "output_type": "execute_result"
    }
   ],
   "source": [
    "q23_regressor.model_param"
   ]
  },
  {
   "cell_type": "code",
   "execution_count": 40,
   "metadata": {},
   "outputs": [],
   "source": [
    "q24_regressor = Mod_Regression()\n",
    "q24_data_process = Pmyd()\n",
    "q24_df_train, q24_df_test = q24_data_process.train_test_split(df4)\n",
    "prediction4 = q24_regressor.my_regression(q24_df_train, q24_df_test.iloc[:, 0:-1], 1)"
   ]
  },
  {
   "cell_type": "code",
   "execution_count": 41,
   "metadata": {},
   "outputs": [
    {
     "data": {
      "text/plain": [
       "[{'weights': array([[ 3.4793451 ],\n",
       "         [-0.25658533]]),\n",
       "  'kernel': 'linear',\n",
       "  'lamda': 0.001,\n",
       "  'lmse': 6.21740339140465}]"
      ]
     },
     "execution_count": 41,
     "metadata": {},
     "output_type": "execute_result"
    }
   ],
   "source": [
    "q24_regressor.model_param"
   ]
  },
  {
   "cell_type": "markdown",
   "metadata": {},
   "source": [
    "## Plotting high and low errors"
   ]
  },
  {
   "cell_type": "code",
   "execution_count": 42,
   "metadata": {},
   "outputs": [
    {
     "data": {
      "text/plain": [
       "<matplotlib.legend.Legend at 0x7f6fc6c04f60>"
      ]
     },
     "execution_count": 42,
     "metadata": {},
     "output_type": "execute_result"
    },
    {
     "data": {
      "image/png": "[encoded data removed]",
      "text/plain": [
       "<Figure size 864x576 with 1 Axes>"
      ]
     },
     "metadata": {
      "needs_background": "light"
     },
     "output_type": "display_data"
    }
   ],
   "source": [
    "plt.figure(figsize=(12,8))\n",
    "plt.plot(x, y,'o',label= 'data')\n",
    "plt.plot(xx, prediction1,label= 'high error')\n",
    "plt.plot(x, pprediction,label ='low error',color ='k')\n",
    "plt.xlabel('X-values')\n",
    "plt.ylabel('y-values')\n",
    "plt.title('High and low errors')\n",
    "plt.legend()"
   ]
  },
  {
   "cell_type": "markdown",
   "metadata": {},
   "source": [
    "# Answer of question 3 is already discussed in problem 1"
   ]
  },
  {
   "cell_type": "code",
   "execution_count": null,
   "metadata": {},
   "outputs": [],
   "source": []
  }
 ],
 "metadata": {
  "kernelspec": {
   "display_name": "Python 3",
   "language": "python",
   "name": "python3"
  },
  "language_info": {
   "codemirror_mode": {
    "name": "ipython",
    "version": 3
   },
   "file_extension": ".py",
   "mimetype": "text/x-python",
   "name": "python",
   "nbconvert_exporter": "python",
   "pygments_lexer": "ipython3",
   "version": "3.7.1"
  }
 },
 "nbformat": 4,
 "nbformat_minor": 2
}
